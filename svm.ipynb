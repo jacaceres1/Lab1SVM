{
 "cells": [
  {
   "cell_type": "markdown",
   "metadata": {
    "id": "LxgPHV341BRR"
   },
   "source": [
    "Svm"
   ]
  },
  {
   "cell_type": "code",
   "execution_count": 45,
   "metadata": {
    "id": "N91sEy090_-a"
   },
   "outputs": [],
   "source": [
    "from sklearn.model_selection import train_test_split\n",
    "from sklearn import svm\n",
    "from sklearn import metrics\n",
    "from sklearn import datasets\n",
    "import pandas as pd\n",
    "import numpy as np\n",
    "import pprint\n",
    "import seaborn as sn\n",
    "import matplotlib.pyplot as plt"
   ]
  },
  {
   "cell_type": "markdown",
   "metadata": {
    "id": "mlJRlzZC15hm"
   },
   "source": [
    "Importar el dataset"
   ]
  },
  {
   "cell_type": "code",
   "execution_count": 41,
   "metadata": {
    "id": "LzXjbHc12Df1"
   },
   "outputs": [
    {
     "name": "stdout",
     "output_type": "stream",
     "text": [
      "['sepal length (cm)', 'sepal width (cm)', 'petal length (cm)', 'petal width (cm)']\n",
      "[[5.1 3.5 1.4 0.2]\n",
      " [4.9 3.  1.4 0.2]\n",
      " [4.7 3.2 1.3 0.2]\n",
      " [4.6 3.1 1.5 0.2]\n",
      " [5.  3.6 1.4 0.2]\n",
      " [5.4 3.9 1.7 0.4]\n",
      " [4.6 3.4 1.4 0.3]\n",
      " [5.  3.4 1.5 0.2]\n",
      " [4.4 2.9 1.4 0.2]\n",
      " [4.9 3.1 1.5 0.1]\n",
      " [5.4 3.7 1.5 0.2]\n",
      " [4.8 3.4 1.6 0.2]\n",
      " [4.8 3.  1.4 0.1]\n",
      " [4.3 3.  1.1 0.1]\n",
      " [5.8 4.  1.2 0.2]\n",
      " [5.7 4.4 1.5 0.4]\n",
      " [5.4 3.9 1.3 0.4]\n",
      " [5.1 3.5 1.4 0.3]\n",
      " [5.7 3.8 1.7 0.3]\n",
      " [5.1 3.8 1.5 0.3]\n",
      " [5.4 3.4 1.7 0.2]\n",
      " [5.1 3.7 1.5 0.4]\n",
      " [4.6 3.6 1.  0.2]\n",
      " [5.1 3.3 1.7 0.5]\n",
      " [4.8 3.4 1.9 0.2]\n",
      " [5.  3.  1.6 0.2]\n",
      " [5.  3.4 1.6 0.4]\n",
      " [5.2 3.5 1.5 0.2]\n",
      " [5.2 3.4 1.4 0.2]\n",
      " [4.7 3.2 1.6 0.2]\n",
      " [4.8 3.1 1.6 0.2]\n",
      " [5.4 3.4 1.5 0.4]\n",
      " [5.2 4.1 1.5 0.1]\n",
      " [5.5 4.2 1.4 0.2]\n",
      " [4.9 3.1 1.5 0.2]\n",
      " [5.  3.2 1.2 0.2]\n",
      " [5.5 3.5 1.3 0.2]\n",
      " [4.9 3.6 1.4 0.1]\n",
      " [4.4 3.  1.3 0.2]\n",
      " [5.1 3.4 1.5 0.2]\n",
      " [5.  3.5 1.3 0.3]\n",
      " [4.5 2.3 1.3 0.3]\n",
      " [4.4 3.2 1.3 0.2]\n",
      " [5.  3.5 1.6 0.6]\n",
      " [5.1 3.8 1.9 0.4]\n",
      " [4.8 3.  1.4 0.3]\n",
      " [5.1 3.8 1.6 0.2]\n",
      " [4.6 3.2 1.4 0.2]\n",
      " [5.3 3.7 1.5 0.2]\n",
      " [5.  3.3 1.4 0.2]\n",
      " [7.  3.2 4.7 1.4]\n",
      " [6.4 3.2 4.5 1.5]\n",
      " [6.9 3.1 4.9 1.5]\n",
      " [5.5 2.3 4.  1.3]\n",
      " [6.5 2.8 4.6 1.5]\n",
      " [5.7 2.8 4.5 1.3]\n",
      " [6.3 3.3 4.7 1.6]\n",
      " [4.9 2.4 3.3 1. ]\n",
      " [6.6 2.9 4.6 1.3]\n",
      " [5.2 2.7 3.9 1.4]\n",
      " [5.  2.  3.5 1. ]\n",
      " [5.9 3.  4.2 1.5]\n",
      " [6.  2.2 4.  1. ]\n",
      " [6.1 2.9 4.7 1.4]\n",
      " [5.6 2.9 3.6 1.3]\n",
      " [6.7 3.1 4.4 1.4]\n",
      " [5.6 3.  4.5 1.5]\n",
      " [5.8 2.7 4.1 1. ]\n",
      " [6.2 2.2 4.5 1.5]\n",
      " [5.6 2.5 3.9 1.1]\n",
      " [5.9 3.2 4.8 1.8]\n",
      " [6.1 2.8 4.  1.3]\n",
      " [6.3 2.5 4.9 1.5]\n",
      " [6.1 2.8 4.7 1.2]\n",
      " [6.4 2.9 4.3 1.3]\n",
      " [6.6 3.  4.4 1.4]\n",
      " [6.8 2.8 4.8 1.4]\n",
      " [6.7 3.  5.  1.7]\n",
      " [6.  2.9 4.5 1.5]\n",
      " [5.7 2.6 3.5 1. ]\n",
      " [5.5 2.4 3.8 1.1]\n",
      " [5.5 2.4 3.7 1. ]\n",
      " [5.8 2.7 3.9 1.2]\n",
      " [6.  2.7 5.1 1.6]\n",
      " [5.4 3.  4.5 1.5]\n",
      " [6.  3.4 4.5 1.6]\n",
      " [6.7 3.1 4.7 1.5]\n",
      " [6.3 2.3 4.4 1.3]\n",
      " [5.6 3.  4.1 1.3]\n",
      " [5.5 2.5 4.  1.3]\n",
      " [5.5 2.6 4.4 1.2]\n",
      " [6.1 3.  4.6 1.4]\n",
      " [5.8 2.6 4.  1.2]\n",
      " [5.  2.3 3.3 1. ]\n",
      " [5.6 2.7 4.2 1.3]\n",
      " [5.7 3.  4.2 1.2]\n",
      " [5.7 2.9 4.2 1.3]\n",
      " [6.2 2.9 4.3 1.3]\n",
      " [5.1 2.5 3.  1.1]\n",
      " [5.7 2.8 4.1 1.3]\n",
      " [6.3 3.3 6.  2.5]\n",
      " [5.8 2.7 5.1 1.9]\n",
      " [7.1 3.  5.9 2.1]\n",
      " [6.3 2.9 5.6 1.8]\n",
      " [6.5 3.  5.8 2.2]\n",
      " [7.6 3.  6.6 2.1]\n",
      " [4.9 2.5 4.5 1.7]\n",
      " [7.3 2.9 6.3 1.8]\n",
      " [6.7 2.5 5.8 1.8]\n",
      " [7.2 3.6 6.1 2.5]\n",
      " [6.5 3.2 5.1 2. ]\n",
      " [6.4 2.7 5.3 1.9]\n",
      " [6.8 3.  5.5 2.1]\n",
      " [5.7 2.5 5.  2. ]\n",
      " [5.8 2.8 5.1 2.4]\n",
      " [6.4 3.2 5.3 2.3]\n",
      " [6.5 3.  5.5 1.8]\n",
      " [7.7 3.8 6.7 2.2]\n",
      " [7.7 2.6 6.9 2.3]\n",
      " [6.  2.2 5.  1.5]\n",
      " [6.9 3.2 5.7 2.3]\n",
      " [5.6 2.8 4.9 2. ]\n",
      " [7.7 2.8 6.7 2. ]\n",
      " [6.3 2.7 4.9 1.8]\n",
      " [6.7 3.3 5.7 2.1]\n",
      " [7.2 3.2 6.  1.8]\n",
      " [6.2 2.8 4.8 1.8]\n",
      " [6.1 3.  4.9 1.8]\n",
      " [6.4 2.8 5.6 2.1]\n",
      " [7.2 3.  5.8 1.6]\n",
      " [7.4 2.8 6.1 1.9]\n",
      " [7.9 3.8 6.4 2. ]\n",
      " [6.4 2.8 5.6 2.2]\n",
      " [6.3 2.8 5.1 1.5]\n",
      " [6.1 2.6 5.6 1.4]\n",
      " [7.7 3.  6.1 2.3]\n",
      " [6.3 3.4 5.6 2.4]\n",
      " [6.4 3.1 5.5 1.8]\n",
      " [6.  3.  4.8 1.8]\n",
      " [6.9 3.1 5.4 2.1]\n",
      " [6.7 3.1 5.6 2.4]\n",
      " [6.9 3.1 5.1 2.3]\n",
      " [5.8 2.7 5.1 1.9]\n",
      " [6.8 3.2 5.9 2.3]\n",
      " [6.7 3.3 5.7 2.5]\n",
      " [6.7 3.  5.2 2.3]\n",
      " [6.3 2.5 5.  1.9]\n",
      " [6.5 3.  5.2 2. ]\n",
      " [6.2 3.4 5.4 2.3]\n",
      " [5.9 3.  5.1 1.8]]\n"
     ]
    }
   ],
   "source": [
    "\"\"\"\n",
    "    df: Usa la libreria Sklear Datasets lo cual permite emplear un DataSet de esta Libreria\n",
    "    Declaracion: df = datasets.\"name_dataset\"\n",
    "    name_datesets:  load_boston()\n",
    "                    load_iris()\n",
    "                    load_diabetes()\n",
    "                    load_digits()\n",
    "                    load_linnerud()\n",
    "                    load_wine()\n",
    "                    load_breast_cancer()\n",
    "\"\"\"\n",
    "df = datasets.load_iris()\n",
    "print(df.feature_names)\n",
    "print(df.data)"
   ]
  },
  {
   "cell_type": "code",
   "execution_count": 33,
   "metadata": {
    "id": "SdqfKYIb3TTH"
   },
   "outputs": [],
   "source": [
    "\"\"\"\n",
    "    X_train, X_test,  \n",
    "    y_train, y_test = train_Test_split(parametros) \n",
    "                         Realiza la separación del data set tomando las caracteristicas y las etiquetas \n",
    "                         para guardar en las variables declaradas inicialmente.\n",
    "                         \n",
    "                         parametros: \n",
    "                            df.data:   Inicialmente se ingresa la variable contenedora de los valores de las caracteristicas.\n",
    "                            df.target: Seguido se especifica los valores de las etiquetas.\n",
    "                            test_size: Se especifica un tamaño para las variables de test.\n",
    "                                     \n",
    "\"\"\"\n",
    "X_train, X_test, y_train,y_test = train_test_split(df.data,df.target, test_size=0.3, random_state=109)"
   ]
  },
  {
   "cell_type": "code",
   "execution_count": 42,
   "metadata": {
    "id": "Sl-474P43-8M"
   },
   "outputs": [
    {
     "data": {
      "text/plain": [
       "SVC(kernel='linear')"
      ]
     },
     "execution_count": 42,
     "metadata": {},
     "output_type": "execute_result"
    }
   ],
   "source": [
    "\"\"\"\n",
    "    clf: hace el llamado al metodo que especifica el clasificador\n",
    "         por lo cual en base a la libreria svm llama el metodo SVC\n",
    "         recibiendo por parametro el tipo de kernel linear.\n",
    "         \n",
    "    clf.fit(paramtros): Realiza el entramiento del modelo\n",
    "                            paramtros: X_train, y_train\n",
    "\"\"\"\n",
    "clf = svm.SVC(kernel=\"linear\")\n",
    "clf.fit(X_train,y_train)"
   ]
  },
  {
   "cell_type": "code",
   "execution_count": 7,
   "metadata": {
    "id": "pY0cO6Xb4hIx"
   },
   "outputs": [],
   "source": [
    "\"\"\"\n",
    "    predict() : recibe por parametro los datos de la variable independiente\n",
    "\"\"\"\n",
    "y_pred= clf.predict(X_test)"
   ]
  },
  {
   "cell_type": "code",
   "execution_count": 43,
   "metadata": {
    "colab": {
     "base_uri": "https://localhost:8080/"
    },
    "id": "XF8rqstK4xNU",
    "outputId": "53b49510-5cf9-4125-8c24-3c721d00b60a"
   },
   "outputs": [
    {
     "name": "stdout",
     "output_type": "stream",
     "text": [
      "accurenci: 0.9555555555555556\n",
      "precision: 0.9555555555555556\n",
      "recall: 0.9555555555555556\n"
     ]
    }
   ],
   "source": [
    "\"\"\"\n",
    "    Metricas de evaluación:\n",
    "                            accuracy  | se implementa en base al metodo accuracy_Socer con las variables de y test y prediccion\n",
    "                            precision | implementando el metodo precision y las variables test y predict se obtiene este valor\n",
    "                            recall    | implementando el metodo precision y las variables test y predict se obtiene este valor\n",
    "                            \n",
    "                            average=micro realiza la suma de todos los true positive sobre los false positive\n",
    "\"\"\"\n",
    "print(\"accurenci:\", metrics.accuracy_score(y_test,y_pred))\n",
    "print(\"precision:\", metrics.precision_score(y_test,y_pred,average='micro'))\n",
    "print(\"recall:\", metrics.recall_score(y_test,y_pred,average='micro'))"
   ]
  },
  {
   "cell_type": "code",
   "execution_count": 44,
   "metadata": {
    "colab": {
     "base_uri": "https://localhost:8080/"
    },
    "id": "aoSu9_3j8jbO",
    "outputId": "c0ec344a-6d8f-46ba-ded3-d5f1f4c19f2d"
   },
   "outputs": [
    {
     "name": "stdout",
     "output_type": "stream",
     "text": [
      "[2 1 2 0 2 1 0 2 1 2 2 0 1 0 0 0 1 2 0 1 1 0 2 0 0 1 2 1 1 2 1 2 1 2 2 1 0\n",
      " 2 2 1 1 1 1 2 0]\n"
     ]
    }
   ],
   "source": [
    "print(y_test)"
   ]
  },
  {
   "cell_type": "markdown",
   "metadata": {
    "id": "-emMYwPm6Qdt"
   },
   "source": [
    "Mateiz"
   ]
  },
  {
   "cell_type": "code",
   "execution_count": 13,
   "metadata": {
    "id": "J1uBzxkg6Rfj"
   },
   "outputs": [],
   "source": [
    "import pandas as pd"
   ]
  },
  {
   "cell_type": "code",
   "execution_count": 14,
   "metadata": {
    "colab": {
     "base_uri": "https://localhost:8080/"
    },
    "id": "uORjDAeq7z3y",
    "outputId": "90a03399-8eb4-4bcb-f8c2-fbd3b440d05f"
   },
   "outputs": [
    {
     "name": "stdout",
     "output_type": "stream",
     "text": [
      "    y_Actual  y_Predicted\n",
      "0          2            2\n",
      "1          1            1\n",
      "2          2            2\n",
      "3          0            0\n",
      "4          2            2\n",
      "5          1            1\n",
      "6          0            0\n",
      "7          2            2\n",
      "8          1            1\n",
      "9          2            2\n",
      "10         2            2\n",
      "11         0            0\n",
      "12         1            1\n",
      "13         0            0\n",
      "14         0            0\n",
      "15         0            0\n",
      "16         1            1\n",
      "17         2            2\n",
      "18         0            0\n",
      "19         1            1\n",
      "20         1            2\n",
      "21         0            0\n",
      "22         2            2\n",
      "23         0            0\n",
      "24         0            0\n",
      "25         1            2\n",
      "26         2            2\n",
      "27         1            1\n",
      "28         1            1\n",
      "29         2            2\n",
      "30         1            1\n",
      "31         2            2\n",
      "32         1            1\n",
      "33         2            2\n",
      "34         2            2\n",
      "35         1            1\n",
      "36         0            0\n",
      "37         2            2\n",
      "38         2            2\n",
      "39         1            1\n",
      "40         1            1\n",
      "41         1            1\n",
      "42         1            1\n",
      "43         2            2\n",
      "44         0            0\n"
     ]
    }
   ],
   "source": [
    "\"\"\"\n",
    "    Data: {} se especifica los valores que formaran parte del nuevo Data Frame. Se considera unicamente las variables \n",
    "             independientes tanto de test para la actual, como la de prediccón.\n",
    "             \n",
    "    DataFrame: en base a la libreria pandas se declara una variable la cual almacene esta generación de datos por lo cual \n",
    "               de pasa por parametros la data y las nombres q tendran las columnas\n",
    "\"\"\"\n",
    "data = {'y_Actual':    y_test,\n",
    "        'y_Predicted': y_pred\n",
    "        }\n",
    "\n",
    "df = pd.DataFrame(data, columns=['y_Actual','y_Predicted'])\n",
    "print (df)"
   ]
  },
  {
   "cell_type": "code",
   "execution_count": 15,
   "metadata": {
    "colab": {
     "base_uri": "https://localhost:8080/"
    },
    "id": "7NXnAH9F-D_f",
    "outputId": "c08a1ee0-d70b-4d77-d974-df0d70f8397e"
   },
   "outputs": [
    {
     "name": "stdout",
     "output_type": "stream",
     "text": [
      "Predicted   0   1   2\n",
      "Actual               \n",
      "0          12   0   0\n",
      "1           0  15   2\n",
      "2           0   0  16\n"
     ]
    }
   ],
   "source": [
    "\"\"\"\n",
    "    confusion_matrix: pd.crosstab(parametros): calcula una tabulación cruzada simple de\n",
    "                                    factores es decir combina estos valores\n",
    "                      parametros: valores del dataframe, \n",
    "                                  colnames: nombres de las columnas, \n",
    "                                  rownames: nombres de las filas\n",
    "\"\"\"\n",
    "confusion_matrix = pd.crosstab(df['y_Actual'], df['y_Predicted'], rownames=['Actual'], colnames=['Predicted'])\n",
    "print (confusion_matrix)"
   ]
  },
  {
   "cell_type": "code",
   "execution_count": 21,
   "metadata": {
    "colab": {
     "base_uri": "https://localhost:8080/",
     "height": 283
    },
    "id": "gHShoPKU-YlO",
    "outputId": "ee260be3-93ae-40fa-af74-8580457388e4"
   },
   "outputs": [
    {
     "data": {
      "image/png": "[encoded data removed]",
      "text/plain": [
       "<Figure size 432x288 with 2 Axes>"
      ]
     },
     "metadata": {
      "needs_background": "light"
     },
     "output_type": "display_data"
    }
   ],
   "source": [
    "\"\"\"\n",
    "    heatmap(parametros)\n",
    "        muestra la magnitud de un fenómeno como color en dos dimensiones\n",
    "        \n",
    "        parametros: Conjutos de datos, se aplica los de la matriz de confusión.\n",
    "                    annot, Argumentos de palabras clave\n",
    "\"\"\"\n",
    "\n",
    "sn.heatmap(confusion_matrix, annot=True)\n",
    "plt.show()"
   ]
  }
 ],
 "metadata": {
  "colab": {
   "collapsed_sections": [],
   "name": "svm.ipynb",
   "provenance": []
  },
  "kernelspec": {
   "display_name": "Python 3 (ipykernel)",
   "language": "python",
   "name": "python3"
  },
  "language_info": {
   "codemirror_mode": {
    "name": "ipython",
    "version": 3
   },
   "file_extension": ".py",
   "mimetype": "text/x-python",
   "name": "python",
   "nbconvert_exporter": "python",
   "pygments_lexer": "ipython3",
   "version": "3.9.12"
  }
 },
 "nbformat": 4,
 "nbformat_minor": 1
}
